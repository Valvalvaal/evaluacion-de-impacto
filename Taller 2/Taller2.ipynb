{
 "cells": [
  {
   "attachments": {},
   "cell_type": "markdown",
   "id": "fbafdf73",
   "metadata": {},
   "source": [
    "## Taller 2: Do Oil Windfalls Improve Living Standards? Evidence from Brazil "
   ]
  },
  {
   "cell_type": "code",
   "execution_count": 2,
   "id": "9931f2b7-5473-40fd-b1ab-b5fca37efa07",
   "metadata": {},
   "outputs": [],
   "source": [
    "import pandas as pd"
   ]
  },
  {
   "attachments": {},
   "cell_type": "markdown",
   "id": "8c947e36",
   "metadata": {},
   "source": [
    "### Modificación de los datos"
   ]
  },
  {
   "cell_type": "code",
   "execution_count": 4,
   "id": "d1ff3f9d-d0d6-4049-888d-c0147c370031",
   "metadata": {},
   "outputs": [
    {
     "name": "stdout",
     "output_type": "stream",
     "text": [
      "La base de datos original tiene 3659 observaciones y 22 variables.\n",
      "La nueva base de datos tiene 168 observaciones y 22 variables.\n"
     ]
    }
   ],
   "source": [
    "# Lectura base de datos original\n",
    "oil_original = pd.read_stata(\"./oil_windfall.dta\")\n",
    "# print(\"La carga de datos se completó correctamente.\")\n",
    "print(f\"\"\"La base de datos original tiene {oil_original.shape[0]} observaciones y {oil_original.shape[1]} variables.\"\"\")\n",
    "\n",
    "# Eliminación aleatoria del 10% de las observaciones, semilla = 201713692\n",
    "oil = oil_original.sample(frac=0.90, random_state=201713692) # Selecciona el 90% de observaciones en la base de datos\n",
    "oil_coastal = oil[(oil[\"coastal\"]  == 1) & (oil[\"onshore\"] == 0)] # se realizarán estimaciones solo para AMCs costeros con petróleo offshore\n",
    "print(f\"\"\"La nueva base de datos tiene {oil_coastal.shape[0]} observaciones y {oil_coastal.shape[1]} variables.\"\"\") "
   ]
  },
  {
   "attachments": {},
   "cell_type": "markdown",
   "id": "cedafa16",
   "metadata": {},
   "source": [
    "1. Especificación del modelo"
   ]
  },
  {
   "attachments": {},
   "cell_type": "markdown",
   "id": "17f72f3c",
   "metadata": {},
   "source": [
    "$$ \\mathbf{W}_m = \\delta_1 + \\Theta_1R_m + \\mathbf{X}'_m\\rho_1 + u_{m1}  $$"
   ]
  },
  {
   "cell_type": "markdown",
   "id": "ec1d6b4c",
   "metadata": {},
   "source": []
  },
  {
   "attachments": {},
   "cell_type": "markdown",
   "id": "d58edade",
   "metadata": {},
   "source": [
    "* $\\mathbf{W}_m$ Es uno de varios posibles resultados en cada AMC, entre estas están variables como: tasas de pobreza, gasto reportado del presupuesto muhnicipal, PIB para un año específico o outcomes socioeconómicos.\n",
    "* $R_m$ es una medida del ingreso municipal ajustada para los AMCs.\n",
    "* $\\mathbf{X}_m$ es un vector de controles a nivel de AMC (latitud, longitud, si es costero, distancia de capitales, dummy si es capital de estado, efectos fijos de estado).\n",
    "* $u_{m1}$ Error"
   ]
  },
  {
   "cell_type": "markdown",
   "id": "0985f1b7",
   "metadata": {},
   "source": [
    "2. Justificación uso de VI."
   ]
  },
  {
   "attachments": {},
   "cell_type": "markdown",
   "id": "cc761988",
   "metadata": {},
   "source": [
    "* La intución detrás de "
   ]
  }
 ],
 "metadata": {
  "kernelspec": {
   "display_name": "base",
   "language": "python",
   "name": "python3"
  },
  "language_info": {
   "codemirror_mode": {
    "name": "ipython",
    "version": 3
   },
   "file_extension": ".py",
   "mimetype": "text/x-python",
   "name": "python",
   "nbconvert_exporter": "python",
   "pygments_lexer": "ipython3",
   "version": "3.9.7"
  },
  "vscode": {
   "interpreter": {
    "hash": "9cda0c324310104f05d8df7cc4d2a731da6a442630e1c96fb26d87993a9b905b"
   }
  }
 },
 "nbformat": 4,
 "nbformat_minor": 5
}
