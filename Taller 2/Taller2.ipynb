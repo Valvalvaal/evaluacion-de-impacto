{
 "cells": [
  {
   "attachments": {},
   "cell_type": "markdown",
   "id": "fbafdf73",
   "metadata": {},
   "source": [
    "## Taller 2: Do Oil Windfalls Improve Living Standards? Evidence from Brazil "
   ]
  },
  {
   "cell_type": "code",
   "execution_count": 2,
   "id": "9931f2b7-5473-40fd-b1ab-b5fca37efa07",
   "metadata": {},
   "outputs": [],
   "source": [
    "import pandas as pd"
   ]
  },
  {
   "attachments": {},
   "cell_type": "markdown",
   "id": "8c947e36",
   "metadata": {},
   "source": [
    "### 1. Modificación de los datos"
   ]
  },
  {
   "cell_type": "code",
   "execution_count": 16,
   "id": "d1ff3f9d-d0d6-4049-888d-c0147c370031",
   "metadata": {},
   "outputs": [
    {
     "name": "stdout",
     "output_type": "stream",
     "text": [
      "La carga de datos se completó correctamente.\n",
      "La base de datos original tiene 3659 observaciones y 22 variables.\n"
     ]
    }
   ],
   "source": [
    "# Lectura base de datos original\n",
    "oil_original = pd.read_stata(\"./oil_windfall.dta\")\n",
    "print(\"La carga de datos se completó correctamente.\")\n",
    "print(f\"\"\"La base de datos original tiene {oil_original.shape[0]} observaciones y {oil_original.shape[1]} variables.\"\"\") "
   ]
  },
  {
   "cell_type": "code",
   "execution_count": 18,
   "id": "d50d7a01",
   "metadata": {},
   "outputs": [
    {
     "name": "stdout",
     "output_type": "stream",
     "text": [
      "La nueva base de datos tiene 3293 observaciones y 22 variables.\n"
     ]
    }
   ],
   "source": [
    "# Eliminación aleatoria del 10% de las observaciones\n",
    "oil = oil_original.sample(frac=0.90) # Selecciona el 90% de observaciones en la base de datos\n",
    "print(f\"\"\"La nueva base de datos tiene {oil.shape[0]} observaciones y {oil.shape[1]} variables.\"\"\") "
   ]
  },
  {
   "cell_type": "code",
   "execution_count": 19,
   "id": "17f72f3c",
   "metadata": {},
   "outputs": [
    {
     "data": {
      "text/plain": [
       "(3293, 22)"
      ]
     },
     "execution_count": 19,
     "metadata": {},
     "output_type": "execute_result"
    }
   ],
   "source": [
    "oil.shape"
   ]
  },
  {
   "cell_type": "code",
   "execution_count": null,
   "id": "918c9999",
   "metadata": {},
   "outputs": [],
   "source": []
  }
 ],
 "metadata": {
  "kernelspec": {
   "display_name": "base",
   "language": "python",
   "name": "python3"
  },
  "language_info": {
   "codemirror_mode": {
    "name": "ipython",
    "version": 3
   },
   "file_extension": ".py",
   "mimetype": "text/x-python",
   "name": "python",
   "nbconvert_exporter": "python",
   "pygments_lexer": "ipython3",
   "version": "3.9.7"
  },
  "vscode": {
   "interpreter": {
    "hash": "9cda0c324310104f05d8df7cc4d2a731da6a442630e1c96fb26d87993a9b905b"
   }
  }
 },
 "nbformat": 4,
 "nbformat_minor": 5
}
