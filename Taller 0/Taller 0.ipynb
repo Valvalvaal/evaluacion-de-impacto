{
 "cells": [
  {
   "cell_type": "code",
   "execution_count": 24,
   "id": "65469aa2-ec9e-49b1-8326-4cf4af31b9f3",
   "metadata": {},
   "outputs": [],
   "source": [
    "import pandas as pd\n",
    "pd.plotting.register_matplotlib_converters()\n",
    "import matplotlib.pyplot as plt\n",
    "%matplotlib inline\n",
    "import seaborn as sns\n",
    "sns.set_style(\"white\")"
   ]
  },
  {
   "cell_type": "code",
   "execution_count": 2,
   "id": "3a6ed4af-d63b-4c8a-a1f1-a5fdd103a809",
   "metadata": {},
   "outputs": [
    {
     "name": "stderr",
     "output_type": "stream",
     "text": [
      "/Users/valeria/opt/anaconda3/lib/python3.9/site-packages/pandas/io/stata.py:1514: UnicodeWarning: \n",
      "One or more strings in the dta file could not be decoded using utf-8, and\n",
      "so the fallback encoding of latin-1 is being used.  This can happen when a file\n",
      "has been incorrectly encoded by Stata or some other software. You should verify\n",
      "the string values returned are correct.\n",
      "  warnings.warn(msg, UnicodeWarning)\n"
     ]
    },
    {
     "data": {
      "text/html": [
       "<div>\n",
       "<style scoped>\n",
       "    .dataframe tbody tr th:only-of-type {\n",
       "        vertical-align: middle;\n",
       "    }\n",
       "\n",
       "    .dataframe tbody tr th {\n",
       "        vertical-align: top;\n",
       "    }\n",
       "\n",
       "    .dataframe thead th {\n",
       "        text-align: right;\n",
       "    }\n",
       "</style>\n",
       "<table border=\"1\" class=\"dataframe\">\n",
       "  <thead>\n",
       "    <tr style=\"text-align: right;\">\n",
       "      <th></th>\n",
       "      <th>personas</th>\n",
       "      <th>hombre</th>\n",
       "      <th>orden_n</th>\n",
       "      <th>D</th>\n",
       "      <th>baja</th>\n",
       "      <th>D_baja</th>\n",
       "      <th>ha_nchs</th>\n",
       "      <th>desn_cr</th>\n",
       "      <th>ocupado_jefe</th>\n",
       "      <th>educa_jefe</th>\n",
       "      <th>ingresos_hogar_jefe</th>\n",
       "    </tr>\n",
       "  </thead>\n",
       "  <tbody>\n",
       "    <tr>\n",
       "      <th>0</th>\n",
       "      <td>7</td>\n",
       "      <td>0</td>\n",
       "      <td>1</td>\n",
       "      <td>0</td>\n",
       "      <td>1</td>\n",
       "      <td>0</td>\n",
       "      <td>-5.504454</td>\n",
       "      <td>1.0</td>\n",
       "      <td>1</td>\n",
       "      <td>0.0</td>\n",
       "      <td>9.0</td>\n",
       "    </tr>\n",
       "    <tr>\n",
       "      <th>1</th>\n",
       "      <td>4</td>\n",
       "      <td>1</td>\n",
       "      <td>2</td>\n",
       "      <td>0</td>\n",
       "      <td>0</td>\n",
       "      <td>0</td>\n",
       "      <td>-5.192995</td>\n",
       "      <td>1.0</td>\n",
       "      <td>1</td>\n",
       "      <td>3.0</td>\n",
       "      <td>0.0</td>\n",
       "    </tr>\n",
       "    <tr>\n",
       "      <th>2</th>\n",
       "      <td>4</td>\n",
       "      <td>0</td>\n",
       "      <td>1</td>\n",
       "      <td>0</td>\n",
       "      <td>0</td>\n",
       "      <td>0</td>\n",
       "      <td>-5.652266</td>\n",
       "      <td>1.0</td>\n",
       "      <td>0</td>\n",
       "      <td>6.0</td>\n",
       "      <td>59.0</td>\n",
       "    </tr>\n",
       "    <tr>\n",
       "      <th>3</th>\n",
       "      <td>4</td>\n",
       "      <td>0</td>\n",
       "      <td>1</td>\n",
       "      <td>0</td>\n",
       "      <td>0</td>\n",
       "      <td>0</td>\n",
       "      <td>-5.022599</td>\n",
       "      <td>1.0</td>\n",
       "      <td>1</td>\n",
       "      <td>5.0</td>\n",
       "      <td>148.0</td>\n",
       "    </tr>\n",
       "    <tr>\n",
       "      <th>4</th>\n",
       "      <td>5</td>\n",
       "      <td>0</td>\n",
       "      <td>1</td>\n",
       "      <td>0</td>\n",
       "      <td>1</td>\n",
       "      <td>0</td>\n",
       "      <td>-5.241397</td>\n",
       "      <td>1.0</td>\n",
       "      <td>1</td>\n",
       "      <td>11.0</td>\n",
       "      <td>124.0</td>\n",
       "    </tr>\n",
       "  </tbody>\n",
       "</table>\n",
       "</div>"
      ],
      "text/plain": [
       "   personas  hombre  orden_n  D  baja  D_baja   ha_nchs  desn_cr  \\\n",
       "0         7       0        1  0     1       0 -5.504454      1.0   \n",
       "1         4       1        2  0     0       0 -5.192995      1.0   \n",
       "2         4       0        1  0     0       0 -5.652266      1.0   \n",
       "3         4       0        1  0     0       0 -5.022599      1.0   \n",
       "4         5       0        1  0     1       0 -5.241397      1.0   \n",
       "\n",
       "   ocupado_jefe  educa_jefe  ingresos_hogar_jefe  \n",
       "0             1         0.0                  9.0  \n",
       "1             1         3.0                  0.0  \n",
       "2             0         6.0                 59.0  \n",
       "3             1         5.0                148.0  \n",
       "4             1        11.0                124.0  "
      ]
     },
     "execution_count": 2,
     "metadata": {},
     "output_type": "execute_result"
    }
   ],
   "source": [
    "genovia_df = pd.read_stata(\"RepProgram.dta\")\n",
    "genovia_df.head()"
   ]
  },
  {
   "cell_type": "markdown",
   "id": "61574253-b8ec-4b8f-a9a4-422f5ab39e3d",
   "metadata": {},
   "source": [
    "1. Después de descargar la base de datos RepProgram.dta adjunta a este ejercicio, abra un do file y – usando un comando dentro del do-file – abra la base de datos descargada. En caso de que use R, abra un script e importe la base de datos. Para esto puede usar el comando read.dta() del paquete “foreign”.\n",
    "\n",
    "    a. ¿Cuántas observaciones tiene esta base de datos?\n",
    "    \n",
    "    b. Las variables: orden de nacimiento del niño o niña en su grupo familiar (orden_n), el tamaño del grupo familiar (personas), si el individuo es niño (hombre), si el jefe del hogar trabaja (ocupado_jefe), los años de escolaridad del jefe del hogar (educa_jefe) y los ingresos percibidos por el jefe del hogar (ingresos_hogar_jefe), las cuales utilizaremos en el presente ejercicio, ¿están completas o les falta observaciones?"
   ]
  },
  {
   "cell_type": "code",
   "execution_count": 3,
   "id": "e1590fbe-7dce-44f7-bb8e-b918137884cd",
   "metadata": {},
   "outputs": [
    {
     "name": "stdout",
     "output_type": "stream",
     "text": [
      "La base de datos tiene 4000 observaciones\n"
     ]
    }
   ],
   "source": [
    "# Obseravaciones de la base de datos\n",
    "print(f\"La base de datos tiene {genovia_df.shape[0]} observaciones\")"
   ]
  },
  {
   "cell_type": "code",
   "execution_count": 13,
   "id": "ecd1e864-4412-45ef-bd45-f4e85d8b703a",
   "metadata": {},
   "outputs": [
    {
     "name": "stdout",
     "output_type": "stream",
     "text": [
      "Conteo de missing values\n"
     ]
    },
    {
     "data": {
      "text/plain": [
       "personas               0\n",
       "hombre                 0\n",
       "orden_n                0\n",
       "ocupado_jefe           0\n",
       "educa_jefe             0\n",
       "ingresos_hogar_jefe    0\n",
       "dtype: int64"
      ]
     },
     "execution_count": 13,
     "metadata": {},
     "output_type": "execute_result"
    }
   ],
   "source": [
    "# Conteo de missing values para las variables de interés\n",
    "var_interes = ['personas', 'hombre', 'orden_n', 'ocupado_jefe', 'educa_jefe', 'ingresos_hogar_jefe']\n",
    "print(\"Conteo de missing values\")\n",
    "genovia_df[var_interes].isna().sum()"
   ]
  },
  {
   "cell_type": "markdown",
   "id": "eddb76ce-56c2-4031-bb31-e8119bec5947",
   "metadata": {},
   "source": [
    "2. Presente estadísticas descriptivas básicas de la variable ha_nchs, así como un histograma de éste con el fin de identificar su distribución. En STATA puede usar los comandos sum, detail e histogram, respectivamente. En R puede usar las funciones summary() e hist()."
   ]
  },
  {
   "cell_type": "code",
   "execution_count": 12,
   "id": "224c89ce-01a0-4ef2-aceb-50775629112f",
   "metadata": {},
   "outputs": [
    {
     "name": "stdout",
     "output_type": "stream",
     "text": [
      "Estadíscias descriptivas: ha_nchs\n"
     ]
    },
    {
     "data": {
      "text/plain": [
       "count    4000.000000\n",
       "mean       -0.728841\n",
       "std         1.270160\n",
       "min        -5.852884\n",
       "25%        -1.532323\n",
       "50%        -0.790537\n",
       "75%        -0.035093\n",
       "max         5.994383\n",
       "Name: ha_nchs, dtype: float64"
      ]
     },
     "execution_count": 12,
     "metadata": {},
     "output_type": "execute_result"
    }
   ],
   "source": [
    "print(\"Estadíscias descriptivas: ha_nchs\")\n",
    "genovia_df[\"ha_nchs\"].describe() # Estadísticas descriptivas básicas"
   ]
  },
  {
   "cell_type": "code",
   "execution_count": 25,
   "id": "95f9898e-6496-42b7-ba97-386a5190b28c",
   "metadata": {},
   "outputs": [
    {
     "data": {
      "text/plain": [
       "Text(0.5, 1.0, 'Distribución ha_nchs')"
      ]
     },
     "execution_count": 25,
     "metadata": {},
     "output_type": "execute_result"
    },
    {
     "data": {
      "image/png": "[encoded data removed]",
      "text/plain": [
       "<Figure size 640x480 with 1 Axes>"
      ]
     },
     "metadata": {},
     "output_type": "display_data"
    }
   ],
   "source": [
    "#genovia_df[\"personas\"].hist()\n",
    "sns.histplot(genovia_df[\"ha_nchs\"]) \n",
    "plt.title(\"Distribución ha_nchs\")\n"
   ]
  },
  {
   "cell_type": "code",
   "execution_count": null,
   "id": "ef1dd880-9d78-45eb-aaae-5db74137b76b",
   "metadata": {},
   "outputs": [],
   "source": []
  }
 ],
 "metadata": {
  "kernelspec": {
   "display_name": "Python 3 (ipykernel)",
   "language": "python",
   "name": "python3"
  },
  "language_info": {
   "codemirror_mode": {
    "name": "ipython",
    "version": 3
   },
   "file_extension": ".py",
   "mimetype": "text/x-python",
   "name": "python",
   "nbconvert_exporter": "python",
   "pygments_lexer": "ipython3",
   "version": "3.9.7"
  }
 },
 "nbformat": 4,
 "nbformat_minor": 5
}
